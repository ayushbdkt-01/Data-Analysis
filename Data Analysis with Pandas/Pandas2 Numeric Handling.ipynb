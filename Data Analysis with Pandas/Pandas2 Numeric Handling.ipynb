{
 "cells": [
  {
   "cell_type": "code",
   "execution_count": 1,
   "id": "057c1137-3dc2-45b7-aa5f-afd88cbc942f",
   "metadata": {},
   "outputs": [],
   "source": [
    "import numpy as np\n",
    "import pandas as pd"
   ]
  },
  {
   "cell_type": "code",
   "execution_count": 3,
   "id": "6e9a6113-ecef-4022-8068-3a40a6055585",
   "metadata": {},
   "outputs": [],
   "source": [
    "data=pd.read_csv('googleplaystore.csv')"
   ]
  },
  {
   "cell_type": "markdown",
   "id": "759252a4-8a38-4f54-b474-62651fa986fc",
   "metadata": {},
   "source": [
    "## Finding Avg. Rating"
   ]
  },
  {
   "cell_type": "code",
   "execution_count": 12,
   "id": "b1fc8cb0-a276-470f-8064-7cf7a238d29c",
   "metadata": {},
   "outputs": [
    {
     "data": {
      "text/plain": [
       "0        4.1\n",
       "1        3.9\n",
       "2        4.7\n",
       "3        4.5\n",
       "4        4.3\n",
       "        ... \n",
       "10834    4.0\n",
       "10836    4.5\n",
       "10837    5.0\n",
       "10839    4.5\n",
       "10840    4.5\n",
       "Name: Rating, Length: 9360, dtype: float64"
      ]
     },
     "execution_count": 12,
     "metadata": {},
     "output_type": "execute_result"
    }
   ],
   "source": [
    "data=data.dropna()    # removing NULL values\n",
    "data['Rating']"
   ]
  },
  {
   "cell_type": "code",
   "execution_count": 19,
   "id": "db882c3e-5a06-4ba9-9347-7c2a64cece93",
   "metadata": {},
   "outputs": [],
   "source": [
    "avgRating=float(str(int(sum(data['Rating']))/len(data['Rating']))[0:4])       # finding mean (avg) rating"
   ]
  },
  {
   "cell_type": "code",
   "execution_count": 20,
   "id": "a34b941d-f655-45a3-99eb-67415befc224",
   "metadata": {},
   "outputs": [
    {
     "data": {
      "text/plain": [
       "4.19"
      ]
     },
     "execution_count": 20,
     "metadata": {},
     "output_type": "execute_result"
    }
   ],
   "source": [
    "avgRating"
   ]
  },
  {
   "cell_type": "markdown",
   "id": "66e70acf-8624-4822-b248-eb725cb6b03c",
   "metadata": {},
   "source": [
    "## How many apps with rating 5"
   ]
  },
  {
   "cell_type": "code",
   "execution_count": 24,
   "id": "c99e7f4b-5aca-499f-a2d0-d6d788cc5847",
   "metadata": {},
   "outputs": [
    {
     "name": "stdout",
     "output_type": "stream",
     "text": [
      "Number of apps with rating 5 is:  274\n"
     ]
    }
   ],
   "source": [
    "count=0\n",
    "for i in data['Rating']:\n",
    "    if(i==5.0):\n",
    "        count+=1\n",
    "print(\"Number of apps with rating 5 is: \",count)"
   ]
  },
  {
   "cell_type": "markdown",
   "id": "37cfa9d8-e32d-457e-b809-50b771e0b15a",
   "metadata": {},
   "source": [
    "## How many apps with rating bw 4.0 to 4.5"
   ]
  },
  {
   "cell_type": "code",
   "execution_count": 32,
   "id": "ba1215bc-b449-4a9e-bf30-01c8119d2b04",
   "metadata": {},
   "outputs": [
    {
     "name": "stdout",
     "output_type": "stream",
     "text": [
      "Total Reviews are: 4814565961\n",
      "Average Reviews are: 514376\n"
     ]
    }
   ],
   "source": [
    "s=0\n",
    "for i in data[\"Reviews\"]:\n",
    "    s+=int(i)\n",
    "print(\"Total Reviews are:\",s)\n",
    "print(\"Average Reviews are:\",int(s/len(data[\"Reviews\"])))\n"
   ]
  },
  {
   "cell_type": "code",
   "execution_count": null,
   "id": "b5e2d5c4-55e0-4124-acec-b01f64772802",
   "metadata": {},
   "outputs": [],
   "source": []
  }
 ],
 "metadata": {
  "kernelspec": {
   "display_name": "Python 3 (ipykernel)",
   "language": "python",
   "name": "python3"
  },
  "language_info": {
   "codemirror_mode": {
    "name": "ipython",
    "version": 3
   },
   "file_extension": ".py",
   "mimetype": "text/x-python",
   "name": "python",
   "nbconvert_exporter": "python",
   "pygments_lexer": "ipython3",
   "version": "3.11.7"
  }
 },
 "nbformat": 4,
 "nbformat_minor": 5
}
